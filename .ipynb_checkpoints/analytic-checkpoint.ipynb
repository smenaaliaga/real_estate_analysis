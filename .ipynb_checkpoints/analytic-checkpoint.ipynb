{
 "cells": [
  {
   "cell_type": "markdown",
   "id": "f87fd360-b0d0-4cc1-8115-28b186f13e6d",
   "metadata": {},
   "source": [
    "# Exploración de avisos"
   ]
  },
  {
   "cell_type": "markdown",
   "id": "ba822321-259e-40c9-953e-15e4f05f7434",
   "metadata": {},
   "source": [
    "## Conexión a DB"
   ]
  },
  {
   "cell_type": "code",
   "execution_count": 2,
   "id": "b861df8e-2c3a-4d1f-8592-84ca8c068c76",
   "metadata": {},
   "outputs": [],
   "source": [
    "from pymongo import MongoClient\n",
    "from dotenv import load_dotenv\n",
    "import os"
   ]
  },
  {
   "cell_type": "code",
   "execution_count": 3,
   "id": "2600f3bd-627e-4492-9d1a-145dc9874d5f",
   "metadata": {},
   "outputs": [],
   "source": [
    "load_dotenv()\n",
    "db_uri = os.getenv('DBURI')"
   ]
  },
  {
   "cell_type": "code",
   "execution_count": 4,
   "id": "ee61b26a-0c9c-4c92-889d-80e9ed0f8e13",
   "metadata": {},
   "outputs": [],
   "source": [
    "client = MongoClient(db_uri)\n",
    "db = client['portalinmobiliario']\n",
    "collection = db['propiedades']"
   ]
  },
  {
   "cell_type": "code",
   "execution_count": 5,
   "id": "0269e3cd-374b-4cc0-9400-b5694a1e243a",
   "metadata": {},
   "outputs": [],
   "source": [
    "propiedades = list(collection.find({}))"
   ]
  }
 ],
 "metadata": {
  "kernelspec": {
   "display_name": "realestate_analytic",
   "language": "python",
   "name": "realestate_analytic"
  },
  "language_info": {
   "codemirror_mode": {
    "name": "ipython",
    "version": 3
   },
   "file_extension": ".py",
   "mimetype": "text/x-python",
   "name": "python",
   "nbconvert_exporter": "python",
   "pygments_lexer": "ipython3",
   "version": "3.12.2"
  }
 },
 "nbformat": 4,
 "nbformat_minor": 5
}
