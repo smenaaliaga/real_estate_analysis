{
 "cells": [
  {
   "cell_type": "markdown",
   "id": "f87fd360-b0d0-4cc1-8115-28b186f13e6d",
   "metadata": {},
   "source": [
    "# Exploración de avisos"
   ]
  },
  {
   "cell_type": "markdown",
   "id": "ba822321-259e-40c9-953e-15e4f05f7434",
   "metadata": {},
   "source": [
    "## Conexión a DB"
   ]
  },
  {
   "cell_type": "code",
   "execution_count": 16,
   "id": "b861df8e-2c3a-4d1f-8592-84ca8c068c76",
   "metadata": {},
   "outputs": [],
   "source": [
    "from pymongo import MongoClient\n",
    "from dotenv import load_dotenv\n",
    "import matplotlib.pyplot as plt\n",
    "import seaborn as sns\n",
    "import pandas as pd\n",
    "import os"
   ]
  },
  {
   "cell_type": "code",
   "execution_count": 2,
   "id": "2600f3bd-627e-4492-9d1a-145dc9874d5f",
   "metadata": {},
   "outputs": [],
   "source": [
    "load_dotenv()\n",
    "db_uri = os.getenv('DBURI')"
   ]
  },
  {
   "cell_type": "code",
   "execution_count": 3,
   "id": "ee61b26a-0c9c-4c92-889d-80e9ed0f8e13",
   "metadata": {},
   "outputs": [],
   "source": [
    "client = MongoClient(db_uri)\n",
    "db = client['portalinmobiliario']\n",
    "collection = db['propiedades']"
   ]
  },
  {
   "cell_type": "code",
   "execution_count": 4,
   "id": "0269e3cd-374b-4cc0-9400-b5694a1e243a",
   "metadata": {},
   "outputs": [],
   "source": [
    "propiedades = list(collection.find({}))"
   ]
  },
  {
   "cell_type": "markdown",
   "id": "14bbd64a-5ed7-4469-ad06-674f8d8412b6",
   "metadata": {},
   "source": [
    "## Exploración"
   ]
  },
  {
   "cell_type": "code",
   "execution_count": 5,
   "id": "f24b703c-586b-42bf-827d-216787cab964",
   "metadata": {},
   "outputs": [],
   "source": [
    "df = pd.DataFrame(propiedades)"
   ]
  },
  {
   "cell_type": "code",
   "execution_count": 6,
   "id": "e83d11a9-05df-4b95-a516-9c13e80762de",
   "metadata": {},
   "outputs": [
    {
     "data": {
      "text/plain": [
       "_id                            object\n",
       "uuid                           object\n",
       "fecha_obtencion        datetime64[ns]\n",
       "url                            object\n",
       "tipo_operacion                 object\n",
       "tipo_propiedad                 object\n",
       "modalidad                      object\n",
       "region                         object\n",
       "comuna                         object\n",
       "barrio                         object\n",
       "titulo                         object\n",
       "simbolo_moneda                 object\n",
       "precio                         object\n",
       "ubicacion                      object\n",
       "latitud                        object\n",
       "longitud                       object\n",
       "caracteristicas                object\n",
       "descripcion                    object\n",
       "info_zona                      object\n",
       "ref_precio                     object\n",
       "corredora                      object\n",
       "fecha_actualizacion    datetime64[ns]\n",
       "publicacion_vigente             int64\n",
       "dtype: object"
      ]
     },
     "execution_count": 6,
     "metadata": {},
     "output_type": "execute_result"
    }
   ],
   "source": [
    "df.dtypes"
   ]
  },
  {
   "cell_type": "code",
   "execution_count": 7,
   "id": "08ba3df1-e114-4431-a00b-e5b8ff612d3b",
   "metadata": {},
   "outputs": [
    {
     "data": {
      "text/plain": [
       "comuna\n",
       "la-florida      4854\n",
       "macul           2844\n",
       "nunoa          14995\n",
       "providencia    11614\n",
       "Name: uuid, dtype: int64"
      ]
     },
     "execution_count": 7,
     "metadata": {},
     "output_type": "execute_result"
    }
   ],
   "source": [
    "df.groupby('comuna')['uuid'].count()"
   ]
  },
  {
   "cell_type": "code",
   "execution_count": 8,
   "id": "c8f60f00-036d-4947-84e5-73a92ef54b61",
   "metadata": {},
   "outputs": [
    {
     "data": {
      "text/plain": [
       "publicacion_vigente\n",
       "0    18590\n",
       "1    15717\n",
       "Name: uuid, dtype: int64"
      ]
     },
     "execution_count": 8,
     "metadata": {},
     "output_type": "execute_result"
    }
   ],
   "source": [
    "df.groupby('publicacion_vigente')['uuid'].count()"
   ]
  },
  {
   "cell_type": "code",
   "execution_count": 9,
   "id": "ac5f944d-b8ff-4376-adcd-401cf80cde34",
   "metadata": {},
   "outputs": [
    {
     "data": {
      "text/plain": [
       "publicacion_vigente  tipo_propiedad  comuna     \n",
       "0                    casa            la-florida     1012\n",
       "                                     macul           320\n",
       "                                     nunoa          1332\n",
       "                                     providencia    1109\n",
       "                     departamento    la-florida      952\n",
       "                                     macul           850\n",
       "                                     nunoa          7302\n",
       "                                     providencia    5713\n",
       "1                    casa            la-florida     1547\n",
       "                                     macul           406\n",
       "                                     nunoa           924\n",
       "                                     providencia     853\n",
       "                     departamento    la-florida     1343\n",
       "                                     macul          1268\n",
       "                                     nunoa          5437\n",
       "                                     providencia    3939\n",
       "Name: uuid, dtype: int64"
      ]
     },
     "execution_count": 9,
     "metadata": {},
     "output_type": "execute_result"
    }
   ],
   "source": [
    "df.groupby(['publicacion_vigente', 'tipo_propiedad', 'comuna'])['uuid'].count()"
   ]
  },
  {
   "cell_type": "code",
   "execution_count": 31,
   "id": "67ba3002-f0bd-4976-8bbe-9461d67ad75a",
   "metadata": {},
   "outputs": [
    {
     "data": {
      "image/png": "[encoded data removed]",
      "text/plain": [
       "<Figure size 1400x800 with 1 Axes>"
      ]
     },
     "metadata": {},
     "output_type": "display_data"
    }
   ],
   "source": [
    "df_grouped = df.groupby(['publicacion_vigente', 'tipo_propiedad', 'comuna'])['uuid'].count().reset_index()\n",
    "df_grouped.columns = ['publicacion_vigente', 'tipo_propiedad', 'comuna', 'count']\n",
    "\n",
    "df_filtered = df_grouped.query('publicacion_vigente == 1')\n",
    "\n",
    "# Crear el gráfico\n",
    "plt.figure(figsize=(14, 8))\n",
    "barplot = sns.barplot(x='comuna', y='count', hue='tipo_propiedad', data=df_filtered, palette='Set2', errorbar=None)\n",
    "\n",
    "# Añadir valores encima de las barras\n",
    "for p in barplot.patches:\n",
    "    barplot.annotate(format(p.get_height(), '.0f'), \n",
    "                     (p.get_x() + p.get_width() / 2., p.get_height()), \n",
    "                     ha = 'center', va = 'center', \n",
    "                     xytext = (0, 9), \n",
    "                     textcoords = 'offset points')\n",
    "\n",
    "plt.title('Cantidad de propiedades por publicación vigente (1), tipo de propiedad y comuna')\n",
    "plt.xlabel('Comuna')\n",
    "plt.ylabel('Cantidad de propiedades')\n",
    "plt.xticks(rotation=45)\n",
    "plt.legend(title='Tipo de Propiedad')\n",
    "\n",
    "plt.show()"
   ]
  },
  {
   "cell_type": "markdown",
   "id": "0198e4c8-7e4a-46fb-b1ab-8b8975784425",
   "metadata": {},
   "source": [
    "## Conversión de moneda"
   ]
  },
  {
   "cell_type": "code",
   "execution_count": 34,
   "id": "c013b3c8-36bf-42eb-a4ff-f7fa9817f0ba",
   "metadata": {},
   "outputs": [
    {
     "data": {
      "text/plain": [
       "array(['UF', '$', 'U$S'], dtype=object)"
      ]
     },
     "execution_count": 34,
     "metadata": {},
     "output_type": "execute_result"
    }
   ],
   "source": [
    "df['simbolo_moneda'].unique()"
   ]
  },
  {
   "cell_type": "code",
   "execution_count": 38,
   "id": "d30911f5-afe9-40db-90d2-3b9d1918f8da",
   "metadata": {},
   "outputs": [],
   "source": [
    "df['precio'] = pd.to_numeric(df['precio'], errors='coerce')"
   ]
  },
  {
   "cell_type": "code",
   "execution_count": 39,
   "id": "40214e11-158b-4613-9b56-63bad0210dfc",
   "metadata": {},
   "outputs": [],
   "source": [
    "tasa_conversion_clp_a_uf = 37445\n",
    "tasa_conversion_usd_a_uf = 917 / 30000 \n",
    "\n",
    "def convertir_a_uf(row):\n",
    "    if row['simbolo_moneda'] == '$':\n",
    "        return row['precio'] / tasa_conversion_clp_a_uf\n",
    "    elif row['simbolo_moneda'] == 'U$S':\n",
    "        return row['precio'] * tasa_conversion_usd_a_uf\n",
    "    else:  # Asumimos que si no es CLP ni USD, ya está en UF\n",
    "        return row['precio']"
   ]
  },
  {
   "cell_type": "code",
   "execution_count": 40,
   "id": "a81b822f-2de7-44c0-9709-ae66f0d5ecef",
   "metadata": {},
   "outputs": [],
   "source": [
    "df['precio_en_uf'] = df.apply(convertir_a_uf, axis=1)"
   ]
  },
  {
   "cell_type": "code",
   "execution_count": 44,
   "id": "506a03e1-3fad-49dc-9a71-1fdb3a5bdf5c",
   "metadata": {},
   "outputs": [
    {
     "name": "stdout",
     "output_type": "stream",
     "text": [
      "   precio_en_uf  precio                                                url\n",
      "0         3.200   3.200  https://www.portalinmobiliario.com/MLC-1474053...\n",
      "1         7.000   7.000  https://www.portalinmobiliario.com/MLC-2353364...\n",
      "2         4.200   4.200  https://www.portalinmobiliario.com/MLC-2364798...\n",
      "3           NaN     NaN  https://www.portalinmobiliario.com/MLC-2355043...\n",
      "4         6.233   6.233  https://www.portalinmobiliario.com/MLC-2353455...\n"
     ]
    }
   ],
   "source": [
    "print(df[['precio_en_uf', 'precio', 'url']].head())"
   ]
  },
  {
   "cell_type": "code",
   "execution_count": 48,
   "id": "065e5d19-2ede-4b44-8365-17000057d053",
   "metadata": {
    "scrolled": true
   },
   "outputs": [
    {
     "name": "stdout",
     "output_type": "stream",
     "text": [
      "     precio_en_uf  precio  \\\n",
      "7             NaN     NaN   \n",
      "35            NaN     NaN   \n",
      "123           NaN     NaN   \n",
      "136           NaN     NaN   \n",
      "167           NaN     NaN   \n",
      "\n",
      "                                                                                                              url  \n",
      "7                      https://www.portalinmobiliario.com/MLC-2353399452-departamento-en-venta-en-providencia-_JM  \n",
      "35                                   https://www.portalinmobiliario.com/MLC-2331566034-dpto-bilbao-bustamante-_JM  \n",
      "123          https://www.portalinmobiliario.com/MLC-2209856958-venta-depto-antiguo-passy-bustamante-vmackenna-_JM  \n",
      "136  https://www.portalinmobiliario.com/MLC-2335752290-comodo-departamento-de-dos-habitaciones-en-providencia-_JM  \n",
      "167          https://www.portalinmobiliario.com/MLC-2237257278-departamento-en-venta-de-2-dorm-en-providencia-_JM  \n"
     ]
    }
   ],
   "source": [
    "pd.set_option('display.max_colwidth', None)\n",
    "\n",
    "filtro = df[df['precio'].isna() & (df['publicacion_vigente'] == 1)]\n",
    "print(filtro[['precio_en_uf', 'precio', 'url']].head())"
   ]
  },
  {
   "cell_type": "code",
   "execution_count": 49,
   "id": "59216659-0596-4703-a37d-c0790bada11d",
   "metadata": {
    "scrolled": true
   },
   "outputs": [
    {
     "name": "stdout",
     "output_type": "stream",
     "text": [
      "Número de NaN en la columna 'precio': 4034\n"
     ]
    }
   ],
   "source": [
    "nan_precio = df['precio'].isna().sum()\n",
    "print(f\"Número de NaN en la columna 'precio': {nan_precio}\")"
   ]
  },
  {
   "cell_type": "code",
   "execution_count": 53,
   "id": "52e798a3-7e48-42d0-83e0-835379b186b3",
   "metadata": {},
   "outputs": [
    {
     "name": "stdout",
     "output_type": "stream",
     "text": [
      "       precio  \\\n",
      "4850     0.00   \n",
      "4421     1.00   \n",
      "32407    1.15   \n",
      "13663    1.15   \n",
      "18522    1.16   \n",
      "\n",
      "                                                                                                                    url  \n",
      "4850         https://www.portalinmobiliario.com/MLC-1473005825-venta-unica-terreno-1034m2-en-corazon-de-providencia-_JM  \n",
      "4421   https://www.portalinmobiliario.com/MLC-2337517720-se-vende-derecho-a-llave-de-jardin-infantil-en-providencia-_JM  \n",
      "32407          https://www.portalinmobiliario.com/MLC-2460955924-venta-promesa-departamento-nuevo-entrega-inmediata-_JM  \n",
      "13663          https://www.portalinmobiliario.com/MLC-1464751453-venta-promesa-departamento-nuevo-entrega-inmediata-_JM  \n",
      "18522      https://www.portalinmobiliario.com/MLC-2385958604-se-vende-promesa-de-compraventa-en-macul-a-precio-2021-_JM  \n"
     ]
    }
   ],
   "source": [
    "# Ordenar el DataFrame por precio en orden descendente\n",
    "df_precios_ordenado = df_precios.sort_values(by='precio', ascending=True)\n",
    "\n",
    "# Opcional: Si quieres visualizar solo las URLs de las propiedades más caras\n",
    "print(df_precios_ordenado[['precio', 'url']].head())"
   ]
  }
 ],
 "metadata": {
  "kernelspec": {
   "display_name": "realestate_analytic",
   "language": "python",
   "name": "realestate_analytic"
  },
  "language_info": {
   "codemirror_mode": {
    "name": "ipython",
    "version": 3
   },
   "file_extension": ".py",
   "mimetype": "text/x-python",
   "name": "python",
   "nbconvert_exporter": "python",
   "pygments_lexer": "ipython3",
   "version": "3.12.2"
  }
 },
 "nbformat": 4,
 "nbformat_minor": 5
}
